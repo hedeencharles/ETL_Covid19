{
 "cells": [
  {
   "cell_type": "code",
   "execution_count": 1,
   "metadata": {},
   "outputs": [],
   "source": [
    "import pandas as pd\n",
    "import pymongo\n",
    "from bs4 import BeautifulSoup as bs\n",
    "import requests\n",
    "from splinter import Browser"
   ]
  },
  {
   "cell_type": "code",
   "execution_count": 2,
   "metadata": {},
   "outputs": [],
   "source": [
    "url = 'https://covidtracking.com/data'\n",
    "html = requests.get(url).text"
   ]
  },
  {
   "cell_type": "code",
   "execution_count": 3,
   "metadata": {},
   "outputs": [],
   "source": [
    "soup = bs(html, 'lxml')"
   ]
  },
  {
   "cell_type": "code",
   "execution_count": 4,
   "metadata": {},
   "outputs": [
    {
     "name": "stdout",
     "output_type": "stream",
     "text": [
      "Our Data | The COVID Tracking Project\n"
     ]
    }
   ],
   "source": [
    "title = soup.title.text\n",
    "print(title)"
   ]
  },
  {
   "cell_type": "code",
   "execution_count": 32,
   "metadata": {},
   "outputs": [
    {
     "data": {
      "text/plain": [
       "'Total cases6,688,827DefinitionNew cases today (Calculated)47,486Change over 7 days (Calculated)3.6%+'"
      ]
     },
     "execution_count": 32,
     "metadata": {},
     "output_type": "execute_result"
    }
   ],
   "source": [
    "state_data = []\n",
    "\n",
    "state_cases = soup.find('div', class_='b0_jG').text.strip()\n"
   ]
  },
  {
   "cell_type": "code",
   "execution_count": 37,
   "metadata": {},
   "outputs": [
    {
     "data": {
      "text/plain": [
       "[{'name': 'Alabama', 'total_cases': '142,863', 'new_cases': '1,106'},\n",
       " {'name': 'Alaska', 'total_cases': '7,587', 'new_cases': '116'},\n",
       " {'name': 'American Samoa', 'total_cases': '0', 'new_cases': '0'},\n",
       " {'name': 'Arizona', 'total_cases': '212,942', 'new_cases': '1,282'},\n",
       " {'name': 'Arkansas', 'total_cases': '74,082', 'new_cases': '871'},\n",
       " {'name': 'California', 'total_cases': '769,831', 'new_cases': '3,630'},\n",
       " {'name': 'Colorado', 'total_cases': '63,145', 'new_cases': '459'},\n",
       " {'name': 'Connecticut', 'total_cases': '55,527', 'new_cases': '141'},\n",
       " {'name': 'Delaware', 'total_cases': '19,366', 'new_cases': '48'},\n",
       " {'name': 'District of Columbia', 'total_cases': '14,852', 'new_cases': '62'},\n",
       " {'name': 'Florida', 'total_cases': '677,660', 'new_cases': '3,204'},\n",
       " {'name': 'Georgia', 'total_cases': '302,737', 'new_cases': '1,834'},\n",
       " {'name': 'Guam', 'total_cases': '2,074', 'new_cases': '29'},\n",
       " {'name': 'Hawaii', 'total_cases': '11,105', 'new_cases': '159'},\n",
       " {'name': 'Idaho', 'total_cases': '36,489', 'new_cases': '396'},\n",
       " {'name': 'Illinois', 'total_cases': '272,525', 'new_cases': '2,223'},\n",
       " {'name': 'Indiana', 'total_cases': '109,683', 'new_cases': '1,037'},\n",
       " {'name': 'Iowa', 'total_cases': '76,211', 'new_cases': '1,183'},\n",
       " {'name': 'Kansas', 'total_cases': '52,285', 'new_cases': '1,415'},\n",
       " {'name': 'Kentucky', 'total_cases': '60,128', 'new_cases': '758'},\n",
       " {'name': 'Louisiana', 'total_cases': '161,322', 'new_cases': '979'},\n",
       " {'name': 'Maine', 'total_cases': '5,005', 'new_cases': '43'},\n",
       " {'name': 'Maryland', 'total_cases': '119,062', 'new_cases': '543'},\n",
       " {'name': 'Massachusetts', 'total_cases': '126,582', 'new_cases': '454'},\n",
       " {'name': 'Michigan', 'total_cases': '127,500', 'new_cases': '778'},\n",
       " {'name': 'Minnesota', 'total_cases': '87,807', 'new_cases': '1,085'},\n",
       " {'name': 'Mississippi', 'total_cases': '91,935', 'new_cases': '0'},\n",
       " {'name': 'Missouri', 'total_cases': '110,129', 'new_cases': '1,795'},\n",
       " {'name': 'Montana', 'total_cases': '9,871', 'new_cases': '224'},\n",
       " {'name': 'Nebraska', 'total_cases': '39,921', 'new_cases': '502'},\n",
       " {'name': 'Nevada', 'total_cases': '75,096', 'new_cases': '501'},\n",
       " {'name': 'New Hampshire', 'total_cases': '7,861', 'new_cases': '47'},\n",
       " {'name': 'New Jersey', 'total_cases': '198,848', 'new_cases': '487'},\n",
       " {'name': 'New Mexico', 'total_cases': '27,199', 'new_cases': '158'},\n",
       " {'name': 'New York', 'total_cases': '448,052', 'new_cases': '790'},\n",
       " {'name': 'North Carolina', 'total_cases': '191,019', 'new_cases': '1,443'},\n",
       " {'name': 'North Dakota', 'total_cases': '17,230', 'new_cases': '507'},\n",
       " {'name': 'Northern Mariana Islands', 'total_cases': '62', 'new_cases': '0'},\n",
       " {'name': 'Ohio', 'total_cases': '142,596', 'new_cases': '1,011'},\n",
       " {'name': 'Oklahoma', 'total_cases': '74,567', 'new_cases': '1,249'},\n",
       " {'name': 'Oregon', 'total_cases': '30,342', 'new_cases': '492'},\n",
       " {'name': 'Pennsylvania', 'total_cases': '148,683', 'new_cases': '760'},\n",
       " {'name': 'Puerto Rico', 'total_cases': '39,684', 'new_cases': '817'},\n",
       " {'name': 'Rhode Island', 'total_cases': '23,620', 'new_cases': '132'},\n",
       " {'name': 'South Carolina', 'total_cases': '136,318', 'new_cases': '872'},\n",
       " {'name': 'South Dakota', 'total_cases': '18,075', 'new_cases': '389'},\n",
       " {'name': 'Tennessee', 'total_cases': '180,497', 'new_cases': '2,357'},\n",
       " {'name': 'Texas', 'total_cases': '682,241', 'new_cases': '3,422'},\n",
       " {'name': 'US Virgin Islands', 'total_cases': '1,242', 'new_cases': '4'},\n",
       " {'name': 'Utah', 'total_cases': '61,775', 'new_cases': '1,117'},\n",
       " {'name': 'Vermont', 'total_cases': '1,706', 'new_cases': '1'},\n",
       " {'name': 'Virginia', 'total_cases': '138,702', 'new_cases': '1,242'},\n",
       " {'name': 'Washington', 'total_cases': '81,602', 'new_cases': '404'},\n",
       " {'name': 'West Virginia', 'total_cases': '13,683', 'new_cases': '253'},\n",
       " {'name': 'Wisconsin', 'total_cases': '103,154', 'new_cases': '2,580'},\n",
       " {'name': 'Wyoming', 'total_cases': '4,747', 'new_cases': '95'}]"
      ]
     },
     "execution_count": 37,
     "metadata": {},
     "output_type": "execute_result"
    }
   ],
   "source": [
    "all_data = []\n",
    "\n",
    "for d in soup.find_all('div', attrs={'class':'bH_bL'}):\n",
    "        #print(d)\n",
    "        header_name = d.find('div', attrs={'class':'state-header bQ_d'})\n",
    "        total_cases = d.find('div', attrs={'class':'b0_jG'}).text\n",
    "        new_cases = d.find('span', attrs={'class':'b0_jG'}).text\n",
    "        \n",
    "        state_name = header_name.find('a').text\n",
    "        \n",
    "        state_data = {\n",
    "            'name' : state_name,\n",
    "            'total_cases' : total_cases,\n",
    "            'new_cases' : new_cases\n",
    "                     }\n",
    "        all_data.append(state_data)\n",
    "        \n",
    "all_data            "
   ]
  },
  {
   "cell_type": "code",
   "execution_count": null,
   "metadata": {},
   "outputs": [],
   "source": []
  }
 ],
 "metadata": {
  "kernelspec": {
   "display_name": "Python 3",
   "language": "python",
   "name": "python3"
  },
  "language_info": {
   "codemirror_mode": {
    "name": "ipython",
    "version": 3
   },
   "file_extension": ".py",
   "mimetype": "text/x-python",
   "name": "python",
   "nbconvert_exporter": "python",
   "pygments_lexer": "ipython3",
   "version": "3.7.6"
  }
 },
 "nbformat": 4,
 "nbformat_minor": 4
}
