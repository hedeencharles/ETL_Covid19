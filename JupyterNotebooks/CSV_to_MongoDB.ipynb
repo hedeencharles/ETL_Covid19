{
 "cells": [
  {
   "cell_type": "code",
   "execution_count": 1,
   "metadata": {},
   "outputs": [
    {
     "name": "stdout",
     "output_type": "stream",
     "text": [
      "Requirement already satisfied: pymongo in /Users/charleshedeen/opt/anaconda3/envs/DataScience/lib/python3.8/site-packages (3.11.2)\n",
      "Requirement already satisfied: pandas in /Users/charleshedeen/opt/anaconda3/envs/DataScience/lib/python3.8/site-packages (1.1.3)\n",
      "Requirement already satisfied: numpy>=1.15.4 in /Users/charleshedeen/opt/anaconda3/envs/DataScience/lib/python3.8/site-packages (from pandas) (1.18.5)\n",
      "Requirement already satisfied: python-dateutil>=2.7.3 in /Users/charleshedeen/opt/anaconda3/envs/DataScience/lib/python3.8/site-packages (from pandas) (2.8.1)\n",
      "Requirement already satisfied: pytz>=2017.2 in /Users/charleshedeen/opt/anaconda3/envs/DataScience/lib/python3.8/site-packages (from pandas) (2020.1)\n",
      "Requirement already satisfied: six>=1.5 in /Users/charleshedeen/opt/anaconda3/envs/DataScience/lib/python3.8/site-packages (from python-dateutil>=2.7.3->pandas) (1.15.0)\n"
     ]
    }
   ],
   "source": [
    "!pip install pymongo\n",
    "!pip install pandas\n",
    "\n",
    "# Modules to run code\n",
    "import pymongo\n",
    "import pandas as pd"
   ]
  },
  {
   "cell_type": "code",
   "execution_count": 2,
   "metadata": {},
   "outputs": [],
   "source": [
    "# Import .csv files from Resources folder\n",
    "data = pd.read_csv('CSV_files_created/final_testing_beds.csv')"
   ]
  },
  {
   "cell_type": "code",
   "execution_count": 3,
   "metadata": {},
   "outputs": [],
   "source": [
    "# Establish connection to local host 27017\n",
    "conn = 'mongodb://localhost:27017'\n",
    "\n",
    "# Connect to MongoClient\n",
    "client = pymongo.MongoClient(conn)\n",
    "\n",
    "# Begin by dropping any previous version of the MongoDB instance.\n",
    "client.drop_database('final_testing_beds_db')"
   ]
  },
  {
   "cell_type": "code",
   "execution_count": 4,
   "metadata": {},
   "outputs": [],
   "source": [
    "# Create database by naming db here\n",
    "db = client.final_testing_beds_db\n",
    "\n",
    "# Create collection by naming collection here\n",
    "collection = db.testing_beds"
   ]
  },
  {
   "cell_type": "code",
   "execution_count": 5,
   "metadata": {},
   "outputs": [],
   "source": [
    "# Use \".to_dict('records')\"in combination with .csv variable to create list of dictionaries data set\n",
    "data.reset_index(inplace=True)\n",
    "data_dict = data.to_dict('records')"
   ]
  },
  {
   "cell_type": "code",
   "execution_count": 6,
   "metadata": {},
   "outputs": [
    {
     "data": {
      "text/plain": [
       "<pymongo.results.InsertManyResult at 0x7fc24928aec0>"
      ]
     },
     "execution_count": 6,
     "metadata": {},
     "output_type": "execute_result"
    }
   ],
   "source": [
    "# Insert data from the 'data_dict' variable into the collection using 'collection' variable\n",
    "collection.insert_many(data_dict)"
   ]
  },
  {
   "cell_type": "code",
   "execution_count": 7,
   "metadata": {},
   "outputs": [],
   "source": [
    "# CODE TO PRINT OUT CONTENTS OF THE DATABASE\n",
    "\n",
    "# Store dataset now contained in the collection using the collection's name\n",
    "query = db.testing_beds.find()\n",
    "\n",
    "# Use a for loop to confirm data is now located in the database\n",
    "# for x in query:\n",
    "#     print(x)"
   ]
  },
  {
   "cell_type": "code",
   "execution_count": 8,
   "metadata": {},
   "outputs": [],
   "source": [
    "# After finished with analysis, drop database by uncommenting and running this code\n",
    "# client.drop_database('final_testing_beds_db')"
   ]
  },
  {
   "cell_type": "code",
   "execution_count": 9,
   "metadata": {},
   "outputs": [
    {
     "name": "stdout",
     "output_type": "stream",
     "text": [
      "_id\n",
      "index\n",
      "state\n",
      "date\n",
      "Inpatient Beds Occupied Estimated\n",
      "Count LL\n",
      "Count UL\n",
      "Percentage of Inpatient Beds Occupied Estimated\n",
      "Percentage LL\n",
      "Percentage UL\n",
      "Total Inpatient Beds\n",
      "Total LL\n",
      "Total UL\n",
      "state_name\n",
      "negative\n",
      "negativeIncrease\n",
      "positive\n",
      "positiveIncrease\n",
      "death\n",
      "deathProbable\n",
      "pending\n",
      "totalTestResults\n"
     ]
    }
   ],
   "source": [
    "# To see the fields (columns) available for querying, run the code below.\n",
    "query = db.testing_beds.find_one()\n",
    "\n",
    "for x in query:\n",
    "    print(x)"
   ]
  },
  {
   "cell_type": "code",
   "execution_count": 10,
   "metadata": {},
   "outputs": [],
   "source": [
    "# To see data for a particular field, run the code below (remove the '<<' and '>>' from query)\n",
    "\n",
    "# <<variable name>> = db.testing_beds.find({\"<<field>>\":\"<<value>>\"}).pretty()\n",
    "\n",
    "# This example shows all the fields available for the state: AK (Alaska)\n",
    "states = db.testing_beds.find({\"state\":\"AK\"})\n",
    "\n",
    "# for s in states:\n",
    "#     print(s)"
   ]
  }
 ],
 "metadata": {
  "kernelspec": {
   "display_name": "Python 3",
   "language": "python",
   "name": "python3"
  },
  "language_info": {
   "codemirror_mode": {
    "name": "ipython",
    "version": 3
   },
   "file_extension": ".py",
   "mimetype": "text/x-python",
   "name": "python",
   "nbconvert_exporter": "python",
   "pygments_lexer": "ipython3",
   "version": "3.8.5"
  }
 },
 "nbformat": 4,
 "nbformat_minor": 4
}
